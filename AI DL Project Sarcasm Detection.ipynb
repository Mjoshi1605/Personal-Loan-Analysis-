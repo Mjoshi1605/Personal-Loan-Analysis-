{
 "cells": [
  {
   "cell_type": "code",
   "execution_count": 102,
   "id": "175d571a",
   "metadata": {},
   "outputs": [],
   "source": [
    "import pandas as pd\n",
    "import numpy as np\n",
    "\n",
    "import tensorflow as tf \n",
    "from tensorflow.keras.preprocessing.text import Tokenizer"
   ]
  },
  {
   "cell_type": "code",
   "execution_count": 103,
   "id": "26a8de19",
   "metadata": {},
   "outputs": [],
   "source": [
    "df = pd.read_json('sarcasm.json', lines= True)"
   ]
  },
  {
   "cell_type": "code",
   "execution_count": 104,
   "id": "2944a02d",
   "metadata": {},
   "outputs": [
    {
     "data": {
      "text/plain": [
       "(28619, 3)"
      ]
     },
     "execution_count": 104,
     "metadata": {},
     "output_type": "execute_result"
    }
   ],
   "source": [
    "df.shape"
   ]
  },
  {
   "cell_type": "code",
   "execution_count": 105,
   "id": "a5d5cf4b",
   "metadata": {},
   "outputs": [
    {
     "data": {
      "text/plain": [
       "'inclement weather prevents liar from getting to work'"
      ]
     },
     "execution_count": 105,
     "metadata": {},
     "output_type": "execute_result"
    }
   ],
   "source": [
    "df['headline'][3]"
   ]
  },
  {
   "cell_type": "code",
   "execution_count": 106,
   "id": "d554e677",
   "metadata": {},
   "outputs": [
    {
     "data": {
      "text/html": [
       "<div>\n",
       "<style scoped>\n",
       "    .dataframe tbody tr th:only-of-type {\n",
       "        vertical-align: middle;\n",
       "    }\n",
       "\n",
       "    .dataframe tbody tr th {\n",
       "        vertical-align: top;\n",
       "    }\n",
       "\n",
       "    .dataframe thead th {\n",
       "        text-align: right;\n",
       "    }\n",
       "</style>\n",
       "<table border=\"1\" class=\"dataframe\">\n",
       "  <thead>\n",
       "    <tr style=\"text-align: right;\">\n",
       "      <th></th>\n",
       "      <th>is_sarcastic</th>\n",
       "      <th>headline</th>\n",
       "      <th>article_link</th>\n",
       "    </tr>\n",
       "  </thead>\n",
       "  <tbody>\n",
       "    <tr>\n",
       "      <th>0</th>\n",
       "      <td>1</td>\n",
       "      <td>thirtysomething scientists unveil doomsday clo...</td>\n",
       "      <td>https://www.theonion.com/thirtysomething-scien...</td>\n",
       "    </tr>\n",
       "    <tr>\n",
       "      <th>1</th>\n",
       "      <td>0</td>\n",
       "      <td>dem rep. totally nails why congress is falling...</td>\n",
       "      <td>https://www.huffingtonpost.com/entry/donna-edw...</td>\n",
       "    </tr>\n",
       "    <tr>\n",
       "      <th>2</th>\n",
       "      <td>0</td>\n",
       "      <td>eat your veggies: 9 deliciously different recipes</td>\n",
       "      <td>https://www.huffingtonpost.com/entry/eat-your-...</td>\n",
       "    </tr>\n",
       "    <tr>\n",
       "      <th>3</th>\n",
       "      <td>1</td>\n",
       "      <td>inclement weather prevents liar from getting t...</td>\n",
       "      <td>https://local.theonion.com/inclement-weather-p...</td>\n",
       "    </tr>\n",
       "    <tr>\n",
       "      <th>4</th>\n",
       "      <td>1</td>\n",
       "      <td>mother comes pretty close to using word 'strea...</td>\n",
       "      <td>https://www.theonion.com/mother-comes-pretty-c...</td>\n",
       "    </tr>\n",
       "    <tr>\n",
       "      <th>...</th>\n",
       "      <td>...</td>\n",
       "      <td>...</td>\n",
       "      <td>...</td>\n",
       "    </tr>\n",
       "    <tr>\n",
       "      <th>28614</th>\n",
       "      <td>1</td>\n",
       "      <td>jews to celebrate rosh hashasha or something</td>\n",
       "      <td>https://www.theonion.com/jews-to-celebrate-ros...</td>\n",
       "    </tr>\n",
       "    <tr>\n",
       "      <th>28615</th>\n",
       "      <td>1</td>\n",
       "      <td>internal affairs investigator disappointed con...</td>\n",
       "      <td>https://local.theonion.com/internal-affairs-in...</td>\n",
       "    </tr>\n",
       "    <tr>\n",
       "      <th>28616</th>\n",
       "      <td>0</td>\n",
       "      <td>the most beautiful acceptance speech this week...</td>\n",
       "      <td>https://www.huffingtonpost.com/entry/andrew-ah...</td>\n",
       "    </tr>\n",
       "    <tr>\n",
       "      <th>28617</th>\n",
       "      <td>1</td>\n",
       "      <td>mars probe destroyed by orbiting spielberg-gat...</td>\n",
       "      <td>https://www.theonion.com/mars-probe-destroyed-...</td>\n",
       "    </tr>\n",
       "    <tr>\n",
       "      <th>28618</th>\n",
       "      <td>1</td>\n",
       "      <td>dad clarifies this not a food stop</td>\n",
       "      <td>https://www.theonion.com/dad-clarifies-this-no...</td>\n",
       "    </tr>\n",
       "  </tbody>\n",
       "</table>\n",
       "<p>28619 rows × 3 columns</p>\n",
       "</div>"
      ],
      "text/plain": [
       "       is_sarcastic  ...                                       article_link\n",
       "0                 1  ...  https://www.theonion.com/thirtysomething-scien...\n",
       "1                 0  ...  https://www.huffingtonpost.com/entry/donna-edw...\n",
       "2                 0  ...  https://www.huffingtonpost.com/entry/eat-your-...\n",
       "3                 1  ...  https://local.theonion.com/inclement-weather-p...\n",
       "4                 1  ...  https://www.theonion.com/mother-comes-pretty-c...\n",
       "...             ...  ...                                                ...\n",
       "28614             1  ...  https://www.theonion.com/jews-to-celebrate-ros...\n",
       "28615             1  ...  https://local.theonion.com/internal-affairs-in...\n",
       "28616             0  ...  https://www.huffingtonpost.com/entry/andrew-ah...\n",
       "28617             1  ...  https://www.theonion.com/mars-probe-destroyed-...\n",
       "28618             1  ...  https://www.theonion.com/dad-clarifies-this-no...\n",
       "\n",
       "[28619 rows x 3 columns]"
      ]
     },
     "execution_count": 106,
     "metadata": {},
     "output_type": "execute_result"
    }
   ],
   "source": [
    "df"
   ]
  },
  {
   "cell_type": "code",
   "execution_count": 107,
   "id": "7ef07586",
   "metadata": {},
   "outputs": [],
   "source": [
    "sent = ['I am learning Python', 'I am learning Deep Learning', 'I love dogs', 'I love cats' ]"
   ]
  },
  {
   "cell_type": "code",
   "execution_count": 108,
   "id": "6704dc1a",
   "metadata": {},
   "outputs": [
    {
     "data": {
      "text/plain": [
       "'I am learning Deep Learning'"
      ]
     },
     "execution_count": 108,
     "metadata": {},
     "output_type": "execute_result"
    }
   ],
   "source": [
    "sent[1]"
   ]
  },
  {
   "cell_type": "code",
   "execution_count": 109,
   "id": "809754c4",
   "metadata": {},
   "outputs": [
    {
     "data": {
      "text/plain": [
       "list"
      ]
     },
     "execution_count": 109,
     "metadata": {},
     "output_type": "execute_result"
    }
   ],
   "source": [
    "type(sent)"
   ]
  },
  {
   "cell_type": "code",
   "execution_count": 110,
   "id": "398655af",
   "metadata": {},
   "outputs": [
    {
     "data": {
      "text/plain": [
       "['I am learning Python',\n",
       " 'I am learning Deep Learning',\n",
       " 'I love dogs',\n",
       " 'I love cats']"
      ]
     },
     "execution_count": 110,
     "metadata": {},
     "output_type": "execute_result"
    }
   ],
   "source": [
    "sent"
   ]
  },
  {
   "cell_type": "code",
   "execution_count": 111,
   "id": "b61f682e",
   "metadata": {},
   "outputs": [],
   "source": [
    "token  = Tokenizer(10, )"
   ]
  },
  {
   "cell_type": "code",
   "execution_count": 112,
   "id": "d084e2f8",
   "metadata": {},
   "outputs": [],
   "source": [
    "token.fit_on_texts(sent)"
   ]
  },
  {
   "cell_type": "code",
   "execution_count": 113,
   "id": "1edcaf64",
   "metadata": {},
   "outputs": [
    {
     "data": {
      "text/plain": [
       "{'i': 1,\n",
       " 'learning': 2,\n",
       " 'am': 3,\n",
       " 'love': 4,\n",
       " 'python': 5,\n",
       " 'deep': 6,\n",
       " 'dogs': 7,\n",
       " 'cats': 8}"
      ]
     },
     "execution_count": 113,
     "metadata": {},
     "output_type": "execute_result"
    }
   ],
   "source": [
    "token.word_index"
   ]
  },
  {
   "cell_type": "code",
   "execution_count": 114,
   "id": "1e7c391b",
   "metadata": {},
   "outputs": [],
   "source": [
    "sent_seq = token.texts_to_sequences(sent)"
   ]
  },
  {
   "cell_type": "code",
   "execution_count": 115,
   "id": "d3214abd",
   "metadata": {},
   "outputs": [
    {
     "name": "stdout",
     "output_type": "stream",
     "text": [
      "[[1, 3, 2, 5], [1, 3, 2, 6, 2], [1, 4, 7], [1, 4, 8]]\n"
     ]
    }
   ],
   "source": [
    "print(sent_seq)"
   ]
  },
  {
   "cell_type": "code",
   "execution_count": 116,
   "id": "8aa635b4",
   "metadata": {},
   "outputs": [],
   "source": [
    "sent = ['I am learning Python', 'I am learning Deep Learning', 'I love dogs', 'I love cats' ]"
   ]
  },
  {
   "cell_type": "code",
   "execution_count": 117,
   "id": "3db5747f",
   "metadata": {},
   "outputs": [],
   "source": [
    "from tensorflow.keras.preprocessing.sequence import pad_sequences"
   ]
  },
  {
   "cell_type": "code",
   "execution_count": 118,
   "id": "880e86e8",
   "metadata": {},
   "outputs": [],
   "source": [
    "sent_final = pad_sequences( sent_seq, truncating= 'post', padding= 'post', maxlen= 10 )"
   ]
  },
  {
   "cell_type": "code",
   "execution_count": 119,
   "id": "fe4fd8a2",
   "metadata": {},
   "outputs": [
    {
     "data": {
      "text/plain": [
       "array([[1, 3, 2, 5, 0, 0, 0, 0, 0, 0],\n",
       "       [1, 3, 2, 6, 2, 0, 0, 0, 0, 0],\n",
       "       [1, 4, 7, 0, 0, 0, 0, 0, 0, 0],\n",
       "       [1, 4, 8, 0, 0, 0, 0, 0, 0, 0]])"
      ]
     },
     "execution_count": 119,
     "metadata": {},
     "output_type": "execute_result"
    }
   ],
   "source": [
    "sent_final"
   ]
  },
  {
   "cell_type": "markdown",
   "id": "9eac10ff",
   "metadata": {},
   "source": [
    "## Project : Sarcasm Detection"
   ]
  },
  {
   "cell_type": "code",
   "execution_count": 120,
   "id": "afcce44d",
   "metadata": {},
   "outputs": [],
   "source": [
    "# 1. Convert headlines into a list.\n",
    "# 2. Convert all labels into a list\n"
   ]
  },
  {
   "cell_type": "code",
   "execution_count": 121,
   "id": "86f23774",
   "metadata": {},
   "outputs": [
    {
     "data": {
      "text/plain": [
       "(28619, 3)"
      ]
     },
     "execution_count": 121,
     "metadata": {},
     "output_type": "execute_result"
    }
   ],
   "source": [
    "# \n",
    "sentences = []\n",
    "labels    = []\n",
    "\n",
    "df.shape"
   ]
  },
  {
   "cell_type": "code",
   "execution_count": 122,
   "id": "0cf0be35",
   "metadata": {},
   "outputs": [],
   "source": [
    "sentences = df['headline'].to_list()"
   ]
  },
  {
   "cell_type": "code",
   "execution_count": 123,
   "id": "9fa55268",
   "metadata": {},
   "outputs": [],
   "source": [
    "labels = df['is_sarcastic'].to_list()"
   ]
  },
  {
   "cell_type": "code",
   "execution_count": 124,
   "id": "41f08e4f",
   "metadata": {},
   "outputs": [],
   "source": [
    "# Create Training and Testing Datasets   => 90 : 10 "
   ]
  },
  {
   "cell_type": "code",
   "execution_count": 125,
   "id": "98dfdc3a",
   "metadata": {},
   "outputs": [
    {
     "data": {
      "text/plain": [
       "25757"
      ]
     },
     "execution_count": 125,
     "metadata": {},
     "output_type": "execute_result"
    }
   ],
   "source": [
    "train = int(df.shape[0] * 90 / 100)\n",
    "train"
   ]
  },
  {
   "cell_type": "code",
   "execution_count": 126,
   "id": "0b6bb040",
   "metadata": {},
   "outputs": [],
   "source": [
    "# Training Dataset\n",
    "sentences_train = sentences[ : train]\n",
    "labels_train    = labels[ : train]"
   ]
  },
  {
   "cell_type": "code",
   "execution_count": 127,
   "id": "63c3584e",
   "metadata": {},
   "outputs": [],
   "source": [
    "# Testing Dataset\n",
    "\n",
    "sentences_test = sentences[train : ]\n",
    "labels_test   = labels[train : ]"
   ]
  },
  {
   "cell_type": "code",
   "execution_count": 128,
   "id": "12d67b74",
   "metadata": {},
   "outputs": [],
   "source": [
    "# Create Word Index"
   ]
  },
  {
   "cell_type": "code",
   "execution_count": 129,
   "id": "1b312edc",
   "metadata": {},
   "outputs": [],
   "source": [
    "token = Tokenizer(num_words= 10000, oov_token= 'UNK')"
   ]
  },
  {
   "cell_type": "code",
   "execution_count": 130,
   "id": "ed65a611",
   "metadata": {},
   "outputs": [],
   "source": [
    "token.fit_on_texts(sentences_train)"
   ]
  },
  {
   "cell_type": "code",
   "execution_count": 131,
   "id": "b465cc84",
   "metadata": {},
   "outputs": [],
   "source": [
    "# token.word_index"
   ]
  },
  {
   "cell_type": "code",
   "execution_count": 132,
   "id": "c34f91a7",
   "metadata": {},
   "outputs": [],
   "source": [
    "train_seq = pad_sequences(token.texts_to_sequences(sentences_train),\n",
    "                          maxlen= 50, \n",
    "                          padding= 'post', \n",
    "                          truncating= 'post')"
   ]
  },
  {
   "cell_type": "code",
   "execution_count": 133,
   "id": "e3ffc1c0",
   "metadata": {},
   "outputs": [
    {
     "data": {
      "text/plain": [
       "(25757, 50)"
      ]
     },
     "execution_count": 133,
     "metadata": {},
     "output_type": "execute_result"
    }
   ],
   "source": [
    "train_seq.shape"
   ]
  },
  {
   "cell_type": "code",
   "execution_count": 134,
   "id": "6085478a",
   "metadata": {},
   "outputs": [],
   "source": [
    "test_seq = pad_sequences(token.texts_to_sequences(sentences_test),\n",
    "                          maxlen= 50, \n",
    "                          padding= 'post', \n",
    "                          truncating= 'post')"
   ]
  },
  {
   "cell_type": "code",
   "execution_count": 135,
   "id": "3bb521f5",
   "metadata": {},
   "outputs": [
    {
     "data": {
      "text/plain": [
       "(2862, 50)"
      ]
     },
     "execution_count": 135,
     "metadata": {},
     "output_type": "execute_result"
    }
   ],
   "source": [
    "test_seq.shape"
   ]
  },
  {
   "cell_type": "code",
   "execution_count": 136,
   "id": "13356f49",
   "metadata": {},
   "outputs": [],
   "source": [
    "# Convert labels also in array\n",
    "train_label = np.array(labels_train)\n",
    "test_label = np.array(labels_test)"
   ]
  },
  {
   "cell_type": "code",
   "execution_count": 137,
   "id": "3f9c8494",
   "metadata": {},
   "outputs": [
    {
     "data": {
      "text/plain": [
       "array([0, 1, 0, ..., 0, 1, 1])"
      ]
     },
     "execution_count": 137,
     "metadata": {},
     "output_type": "execute_result"
    }
   ],
   "source": [
    "test_label"
   ]
  },
  {
   "cell_type": "code",
   "execution_count": 138,
   "id": "84d9e0cb",
   "metadata": {},
   "outputs": [],
   "source": [
    "# Build a Model"
   ]
  },
  {
   "cell_type": "code",
   "execution_count": 139,
   "id": "040678f6",
   "metadata": {},
   "outputs": [],
   "source": [
    "from tensorflow.keras.models import Sequential\n",
    "from tensorflow.keras.layers import Dense, Dropout, Embedding, GlobalAvgPool1D, Flatten\n"
   ]
  },
  {
   "cell_type": "code",
   "execution_count": 140,
   "id": "4cf21609",
   "metadata": {},
   "outputs": [],
   "source": [
    "model = Sequential()"
   ]
  },
  {
   "cell_type": "code",
   "execution_count": 141,
   "id": "85df40ae",
   "metadata": {},
   "outputs": [],
   "source": [
    "# Input Layer\n",
    "model.add(Embedding(10000, input_length= 50, output_dim = 16))\n",
    "model.add(GlobalAvgPool1D())\n",
    "\n",
    "# First Hidden Layer\n",
    "model.add(Dense(128, activation= 'relu'))\n",
    "model.add(Dropout(0.25))\n",
    "\n",
    "# Second Hidden Layer\n",
    "model.add(Dense(64, activation= 'relu'))\n",
    "model.add(Dropout(0.25))\n",
    "\n",
    "# Output Layer\n",
    "model.add(Dense(1, activation= 'sigmoid'))"
   ]
  },
  {
   "cell_type": "code",
   "execution_count": 142,
   "id": "9a1278b5",
   "metadata": {},
   "outputs": [
    {
     "name": "stdout",
     "output_type": "stream",
     "text": [
      "Model: \"sequential_3\"\n",
      "_________________________________________________________________\n",
      " Layer (type)                Output Shape              Param #   \n",
      "=================================================================\n",
      " embedding_2 (Embedding)     (None, 50, 16)            160000    \n",
      "                                                                 \n",
      " global_average_pooling1d_1  (None, 16)                0         \n",
      "  (GlobalAveragePooling1D)                                       \n",
      "                                                                 \n",
      " dense_6 (Dense)             (None, 128)               2176      \n",
      "                                                                 \n",
      " dropout_4 (Dropout)         (None, 128)               0         \n",
      "                                                                 \n",
      " dense_7 (Dense)             (None, 64)                8256      \n",
      "                                                                 \n",
      " dropout_5 (Dropout)         (None, 64)                0         \n",
      "                                                                 \n",
      " dense_8 (Dense)             (None, 1)                 65        \n",
      "                                                                 \n",
      "=================================================================\n",
      "Total params: 170497 (666.00 KB)\n",
      "Trainable params: 170497 (666.00 KB)\n",
      "Non-trainable params: 0 (0.00 Byte)\n",
      "_________________________________________________________________\n"
     ]
    }
   ],
   "source": [
    "model.summary()"
   ]
  },
  {
   "cell_type": "code",
   "execution_count": 143,
   "id": "311fcb2a",
   "metadata": {},
   "outputs": [],
   "source": [
    "# Compile model\n",
    "model.compile(optimizer= 'adam', loss= 'binary_crossentropy', metrics = ['accuracy'])"
   ]
  },
  {
   "cell_type": "code",
   "execution_count": 144,
   "id": "153981a4",
   "metadata": {},
   "outputs": [
    {
     "name": "stdout",
     "output_type": "stream",
     "text": [
      "Epoch 1/10\n",
      "805/805 [==============================] - 6s 6ms/step - loss: 0.4754 - accuracy: 0.7523 - val_loss: 0.3429 - val_accuracy: 0.8536\n",
      "Epoch 2/10\n",
      "805/805 [==============================] - 4s 5ms/step - loss: 0.2771 - accuracy: 0.8887 - val_loss: 0.3361 - val_accuracy: 0.8543\n",
      "Epoch 3/10\n",
      "805/805 [==============================] - 4s 5ms/step - loss: 0.2214 - accuracy: 0.9133 - val_loss: 0.3561 - val_accuracy: 0.8508\n",
      "Epoch 4/10\n",
      "805/805 [==============================] - 5s 6ms/step - loss: 0.1847 - accuracy: 0.9314 - val_loss: 0.3638 - val_accuracy: 0.8494\n",
      "Epoch 5/10\n",
      "805/805 [==============================] - 5s 6ms/step - loss: 0.1619 - accuracy: 0.9411 - val_loss: 0.4018 - val_accuracy: 0.8477\n",
      "Epoch 6/10\n",
      "805/805 [==============================] - 4s 5ms/step - loss: 0.1399 - accuracy: 0.9525 - val_loss: 0.4409 - val_accuracy: 0.8368\n",
      "Epoch 7/10\n",
      "805/805 [==============================] - 4s 5ms/step - loss: 0.1282 - accuracy: 0.9555 - val_loss: 0.4679 - val_accuracy: 0.8386\n",
      "Epoch 8/10\n",
      "805/805 [==============================] - 4s 5ms/step - loss: 0.1153 - accuracy: 0.9599 - val_loss: 0.4999 - val_accuracy: 0.8358\n",
      "Epoch 9/10\n",
      "805/805 [==============================] - 4s 5ms/step - loss: 0.1033 - accuracy: 0.9649 - val_loss: 0.5290 - val_accuracy: 0.8323\n",
      "Epoch 10/10\n",
      "805/805 [==============================] - 5s 6ms/step - loss: 0.0958 - accuracy: 0.9658 - val_loss: 0.6147 - val_accuracy: 0.8291\n"
     ]
    },
    {
     "data": {
      "text/plain": [
       "<keras.src.callbacks.History at 0x15353c72f10>"
      ]
     },
     "execution_count": 144,
     "metadata": {},
     "output_type": "execute_result"
    }
   ],
   "source": [
    "# Train the Model\n",
    "model.fit(train_seq, train_label, epochs= 10, validation_data= (test_seq, test_label))"
   ]
  },
  {
   "cell_type": "code",
   "execution_count": 150,
   "id": "82e4f1f4",
   "metadata": {},
   "outputs": [],
   "source": [
    "test = [\"Where are women judges in high courts ?\"]\n",
    "\n",
    "test = pad_sequences(token.texts_to_sequences(test),\n",
    "                          maxlen= 50, \n",
    "                          padding= 'post', \n",
    "                          truncating= 'post')"
   ]
  },
  {
   "cell_type": "code",
   "execution_count": 151,
   "id": "2d88f067",
   "metadata": {},
   "outputs": [
    {
     "name": "stdout",
     "output_type": "stream",
     "text": [
      "1/1 [==============================] - 0s 32ms/step\n"
     ]
    },
    {
     "data": {
      "text/plain": [
       "array([[1.]], dtype=float32)"
      ]
     },
     "execution_count": 151,
     "metadata": {},
     "output_type": "execute_result"
    }
   ],
   "source": [
    "model.predict(test).round()"
   ]
  },
  {
   "cell_type": "code",
   "execution_count": null,
   "id": "dd881d2d",
   "metadata": {},
   "outputs": [],
   "source": []
  }
 ],
 "metadata": {
  "kernelspec": {
   "display_name": "Python 3 (ipykernel)",
   "language": "python",
   "name": "python3"
  },
  "language_info": {
   "codemirror_mode": {
    "name": "ipython",
    "version": 3
   },
   "file_extension": ".py",
   "mimetype": "text/x-python",
   "name": "python",
   "nbconvert_exporter": "python",
   "pygments_lexer": "ipython3",
   "version": "3.11.4"
  }
 },
 "nbformat": 4,
 "nbformat_minor": 5
}
